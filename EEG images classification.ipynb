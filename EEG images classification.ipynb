{
 "cells": [
  {
   "cell_type": "code",
   "execution_count": 67,
   "metadata": {},
   "outputs": [],
   "source": [
    "from tensorflow.python.keras.preprocessing.image import ImageDataGenerator\n",
    "from tensorflow.python.keras.models import Sequential\n",
    "from tensorflow.python.keras.layers import Conv2D, MaxPooling2D, ZeroPadding2D,Convolution2D\n",
    "from tensorflow.python.keras.layers import Activation, Dropout, Flatten, Dense\n",
    "from tensorflow.python.keras.optimizers import SGD, RMSprop, Adam"
   ]
  },
  {
   "cell_type": "code",
   "execution_count": 145,
   "metadata": {
    "collapsed": true
   },
   "outputs": [],
   "source": [
    "import cv2\n",
    "import os\n",
    "import sys\n",
    "import numpy as np\n",
    "\n",
    "import matplotlib.pyplot as plt\n",
    "import seaborn as sn\n",
    "%matplotlib inline\n",
    "\n",
    "from skimage.transform import resize\n",
    "import os\n",
    "from os.path import join\n",
    "from sklearn.model_selection import train_test_split"
   ]
  },
  {
   "cell_type": "code",
   "execution_count": 254,
   "metadata": {
    "collapsed": true
   },
   "outputs": [],
   "source": [
    "# Train data\n",
    "train_dir = 'classification_data/train'\n",
    "# Validation data\n",
    "val_dir = 'classification_data/val'\n",
    "# Test data\n",
    "test_dir = 'classification_data/test'\n",
    "# Image size\n",
    "img_width, img_height = 521, 521\n",
    "# Tensor dimensions\n",
    "input_shape = (img_width, img_height, 3)\n",
    "# Epoches\n",
    "epochs = 10\n",
    "# Batch size\n",
    "batch_size = 16\n",
    "# Train samples\n",
    "nb_train_samples = 16164\n",
    "# Validation samples\n",
    "nb_validation_samples = 3000\n",
    "# Test samples\n",
    "nb_test_samples = 3000"
   ]
  },
  {
   "cell_type": "code",
   "execution_count": 255,
   "metadata": {
    "collapsed": true
   },
   "outputs": [],
   "source": [
    "model = Sequential()\n",
    "model.add(Conv2D(8, (3, 3), input_shape=input_shape))\n",
    "model.add(Activation('relu'))\n",
    "model.add(MaxPooling2D(pool_size=(2, 2)))\n",
    "\n",
    "model.add(ZeroPadding2D((1,1)))\n",
    "model.add(Conv2D(8, (3, 3)))\n",
    "model.add(Activation('relu'))\n",
    "model.add(MaxPooling2D(pool_size=(2, 2)))\n",
    "\n",
    "model.add(ZeroPadding2D((1,1)))\n",
    "model.add(Conv2D(8, (3, 3)))\n",
    "model.add(Activation('relu'))\n",
    "model.add(MaxPooling2D(pool_size=(2, 2)))\n",
    "\n",
    "model.add(ZeroPadding2D((1,1)))\n",
    "model.add(Conv2D(8, (3, 3)))\n",
    "model.add(Activation('relu'))\n",
    "model.add(MaxPooling2D(pool_size=(2, 2)))\n",
    "\n",
    "model.add(Flatten())\n",
    "model.add(Dense(64))\n",
    "model.add(Activation('relu'))\n",
    "model.add(Dropout(0.5))\n",
    "\n",
    "model.add(Flatten())\n",
    "model.add(Dense(64))\n",
    "model.add(Activation('relu'))\n",
    "model.add(Dropout(0.5))\n",
    "\n",
    "model.add(Dense(1))\n",
    "model.add(Activation('sigmoid'))\n"
   ]
  },
  {
   "cell_type": "code",
   "execution_count": 256,
   "metadata": {},
   "outputs": [],
   "source": [
    "sgd = SGD(lr=0.1, decay=1e-6, momentum=0.9, nesterov=True)\n",
    "model.compile(loss='binary_crossentropy',\n",
    "              optimizer=sgd,\n",
    "              metrics=['accuracy'])"
   ]
  },
  {
   "cell_type": "code",
   "execution_count": null,
   "metadata": {},
   "outputs": [],
   "source": []
  },
  {
   "cell_type": "code",
   "execution_count": 241,
   "metadata": {
    "collapsed": true
   },
   "outputs": [],
   "source": [
    "datagen = ImageDataGenerator(rescale=1. / 255)\n"
   ]
  },
  {
   "cell_type": "code",
   "execution_count": 242,
   "metadata": {},
   "outputs": [
    {
     "name": "stdout",
     "output_type": "stream",
     "text": [
      "Found 16164 images belonging to 2 classes.\n"
     ]
    }
   ],
   "source": [
    "\n",
    "train_generator = datagen.flow_from_directory(\n",
    "    train_dir,\n",
    "    target_size=(img_width, img_height),\n",
    "    batch_size=batch_size,\n",
    "    class_mode='binary')"
   ]
  },
  {
   "cell_type": "code",
   "execution_count": 243,
   "metadata": {},
   "outputs": [
    {
     "name": "stdout",
     "output_type": "stream",
     "text": [
      "Found 3000 images belonging to 2 classes.\n"
     ]
    }
   ],
   "source": [
    "test_generator = datagen.flow_from_directory(\n",
    "    test_dir,\n",
    "    target_size=(img_width, img_height),\n",
    "    batch_size=batch_size,\n",
    "    class_mode='binary')"
   ]
  },
  {
   "cell_type": "code",
   "execution_count": 244,
   "metadata": {},
   "outputs": [
    {
     "name": "stdout",
     "output_type": "stream",
     "text": [
      "Found 3000 images belonging to 2 classes.\n"
     ]
    }
   ],
   "source": [
    "val_generator = datagen.flow_from_directory(\n",
    "    val_dir,\n",
    "    target_size=(img_width, img_height),\n",
    "    batch_size=batch_size,\n",
    "    class_mode='binary')"
   ]
  },
  {
   "cell_type": "code",
   "execution_count": 250,
   "metadata": {},
   "outputs": [
    {
     "name": "stdout",
     "output_type": "stream",
     "text": [
      "Epoch 1/30\n",
      "1010/1010 [==============================] - 131s - loss: 0.2374 - acc: 0.8789 - val_loss: 0.4948 - val_acc: 0.7631\n",
      "Epoch 2/30\n",
      "1010/1010 [==============================] - 131s - loss: 0.2211 - acc: 0.8861 - val_loss: 0.4960 - val_acc: 0.7782\n",
      "Epoch 3/30\n",
      "1010/1010 [==============================] - 131s - loss: 0.2198 - acc: 0.8851 - val_loss: 0.4501 - val_acc: 0.7929\n",
      "Epoch 4/30\n",
      "1010/1010 [==============================] - 130s - loss: 0.2039 - acc: 0.8971 - val_loss: 0.5122 - val_acc: 0.7778\n",
      "Epoch 5/30\n",
      "1010/1010 [==============================] - 118s - loss: 0.1918 - acc: 0.9004 - val_loss: 0.5162 - val_acc: 0.7698\n",
      "Epoch 6/30\n",
      "1010/1010 [==============================] - 97s - loss: 0.1899 - acc: 0.9015 - val_loss: 0.5501 - val_acc: 0.7708\n",
      "Epoch 7/30\n",
      "1010/1010 [==============================] - 97s - loss: 0.1829 - acc: 0.9076 - val_loss: 0.5644 - val_acc: 0.7671\n",
      "Epoch 8/30\n",
      "1010/1010 [==============================] - 97s - loss: 0.1766 - acc: 0.9083 - val_loss: 0.6180 - val_acc: 0.7329\n",
      "Epoch 9/30\n",
      "1010/1010 [==============================] - 127s - loss: 0.1736 - acc: 0.9116 - val_loss: 0.5625 - val_acc: 0.7611\n",
      "Epoch 10/30\n",
      "1010/1010 [==============================] - 130s - loss: 0.1674 - acc: 0.9137 - val_loss: 0.6481 - val_acc: 0.7403\n",
      "Epoch 11/30\n",
      "1010/1010 [==============================] - 114s - loss: 0.1647 - acc: 0.9143 - val_loss: 0.6128 - val_acc: 0.7453\n",
      "Epoch 12/30\n",
      "1010/1010 [==============================] - 97s - loss: 0.1611 - acc: 0.9183 - val_loss: 0.6958 - val_acc: 0.7416\n",
      "Epoch 13/30\n",
      "1010/1010 [==============================] - 97s - loss: 0.1553 - acc: 0.9219 - val_loss: 0.5506 - val_acc: 0.7842\n",
      "Epoch 14/30\n",
      "1010/1010 [==============================] - 97s - loss: 0.1537 - acc: 0.9256 - val_loss: 0.6315 - val_acc: 0.7782\n",
      "Epoch 15/30\n",
      "1010/1010 [==============================] - 97s - loss: 0.1527 - acc: 0.9225 - val_loss: 0.7601 - val_acc: 0.7554\n",
      "Epoch 16/30\n",
      "1010/1010 [==============================] - 97s - loss: 0.1491 - acc: 0.9239 - val_loss: 0.6244 - val_acc: 0.7768\n",
      "Epoch 17/30\n",
      "1010/1010 [==============================] - 97s - loss: 0.1542 - acc: 0.9225 - val_loss: 0.6347 - val_acc: 0.7547\n",
      "Epoch 18/30\n",
      "1010/1010 [==============================] - 97s - loss: 0.1430 - acc: 0.9282 - val_loss: 0.6743 - val_acc: 0.7587\n",
      "Epoch 19/30\n",
      "1010/1010 [==============================] - 97s - loss: 0.1430 - acc: 0.9286 - val_loss: 0.5350 - val_acc: 0.7792\n",
      "Epoch 20/30\n",
      "1010/1010 [==============================] - 97s - loss: 0.1433 - acc: 0.9296 - val_loss: 0.6093 - val_acc: 0.7738\n",
      "Epoch 21/30\n",
      "1010/1010 [==============================] - 97s - loss: 0.1354 - acc: 0.9329 - val_loss: 0.6263 - val_acc: 0.7497\n",
      "Epoch 22/30\n",
      "1010/1010 [==============================] - 97s - loss: 0.1322 - acc: 0.9325 - val_loss: 0.6453 - val_acc: 0.7604\n",
      "Epoch 23/30\n",
      "1010/1010 [==============================] - 97s - loss: 0.1333 - acc: 0.9353 - val_loss: 0.7354 - val_acc: 0.7664\n",
      "Epoch 24/30\n",
      "1010/1010 [==============================] - 97s - loss: 0.1308 - acc: 0.9340 - val_loss: 0.7083 - val_acc: 0.7466\n",
      "Epoch 25/30\n",
      "1010/1010 [==============================] - 97s - loss: 0.1323 - acc: 0.9329 - val_loss: 0.6949 - val_acc: 0.7466\n",
      "Epoch 26/30\n",
      "1010/1010 [==============================] - 97s - loss: 0.1279 - acc: 0.9374 - val_loss: 0.7015 - val_acc: 0.7624\n",
      "Epoch 27/30\n",
      "1010/1010 [==============================] - 97s - loss: 0.1286 - acc: 0.9350 - val_loss: 0.7186 - val_acc: 0.7420\n",
      "Epoch 28/30\n",
      "1010/1010 [==============================] - 97s - loss: 0.1222 - acc: 0.9396 - val_loss: 0.5794 - val_acc: 0.7691\n",
      "Epoch 29/30\n",
      "1010/1010 [==============================] - 97s - loss: 0.1235 - acc: 0.9382 - val_loss: 0.6256 - val_acc: 0.7684\n",
      "Epoch 30/30\n",
      "1010/1010 [==============================] - 97s - loss: 0.1262 - acc: 0.9367 - val_loss: 0.8796 - val_acc: 0.7249\n"
     ]
    }
   ],
   "source": [
    "history = model.fit_generator(\n",
    "    train_generator,\n",
    "    steps_per_epoch=nb_train_samples // batch_size,\n",
    "    epochs=30,\n",
    "    validation_data=val_generator,\n",
    "    validation_steps=nb_validation_samples // batch_size)"
   ]
  },
  {
   "cell_type": "code",
   "execution_count": 251,
   "metadata": {},
   "outputs": [
    {
     "name": "stdout",
     "output_type": "stream",
     "text": [
      "[0.19026589001252395, 0.94571045576407509]\n",
      "Test data accuracy: 94.57%\n"
     ]
    }
   ],
   "source": [
    "scores = model.evaluate_generator(test_generator, nb_test_samples // batch_size)\n",
    "print(scores)\n",
    "print(\"Test data accuracy: %.2f%%\" % (scores[1]*100))"
   ]
  },
  {
   "cell_type": "code",
   "execution_count": 252,
   "metadata": {
    "collapsed": true
   },
   "outputs": [],
   "source": [
    "def plot_history(history):\n",
    "    f, (ax1, ax2) = plt.subplots(1, 2, sharey=True, figsize=(20,7))\n",
    "    ax1.plot(history.history['acc'])\n",
    "    ax1.plot(history.history['val_acc'])\n",
    "    ax1.set_title('model accuracy')\n",
    "    ax1.set_ylabel('accuracy')\n",
    "    ax1.set_xlabel('epoch')\n",
    "    ax1.legend(['train', 'test'], loc='upper left')\n",
    "    \n",
    "    \n",
    "    ax2.plot(history.history['loss'])\n",
    "    ax2.plot(history.history['val_loss'])\n",
    "    ax2.set_title('model loss')\n",
    "    ax2.set_ylabel('loss')\n",
    "    ax2.set_xlabel('epoch')\n",
    "    ax2.legend(['train', 'test'], loc='upper left')"
   ]
  },
  {
   "cell_type": "code",
   "execution_count": 253,
   "metadata": {},
   "outputs": [
    {
     "data": {
      "image/png": "[encoded data removed]",
      "text/plain": [
       "<matplotlib.figure.Figure at 0x7f93e82eec50>"
      ]
     },
     "metadata": {},
     "output_type": "display_data"
    }
   ],
   "source": [
    "plot_history(history)"
   ]
  },
  {
   "cell_type": "code",
   "execution_count": null,
   "metadata": {
    "collapsed": true
   },
   "outputs": [],
   "source": []
  }
 ],
 "metadata": {
  "kernelspec": {
   "display_name": "Python 3",
   "language": "python",
   "name": "python3"
  },
  "language_info": {
   "codemirror_mode": {
    "name": "ipython",
    "version": 2
   },
   "file_extension": ".py",
   "mimetype": "text/x-python",
   "name": "python",
   "nbconvert_exporter": "python",
   "pygments_lexer": "ipython2",
   "version": "2.7.11"
  }
 },
 "nbformat": 4,
 "nbformat_minor": 2
}
