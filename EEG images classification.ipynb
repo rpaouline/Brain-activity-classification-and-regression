{
 "cells": [
  {
   "cell_type": "markdown",
   "metadata": {},
   "source": [
    "Import libraries"
   ]
  },
  {
   "cell_type": "code",
   "execution_count": 1,
   "metadata": {
    "collapsed": true
   },
   "outputs": [],
   "source": [
    "from tensorflow.python.keras.preprocessing.image import ImageDataGenerator\n",
    "from tensorflow.python.keras.models import Sequential\n",
    "from tensorflow.python.keras.layers import Conv2D, MaxPooling2D, ZeroPadding2D,Convolution2D\n",
    "from tensorflow.python.keras.layers import Activation, Dropout, Flatten, Dense\n",
    "from tensorflow.python.keras.optimizers import SGD, RMSprop, Adam\n",
    "\n",
    "import matplotlib.pyplot as plt\n",
    " \n",
    "%matplotlib inline"
   ]
  },
  {
   "cell_type": "markdown",
   "metadata": {},
   "source": [
    "Define variables"
   ]
  },
  {
   "cell_type": "code",
   "execution_count": 59,
   "metadata": {
    "collapsed": true
   },
   "outputs": [],
   "source": [
    "# Train data\n",
    "train_dir = 'classification_data/train'\n",
    "# Test data\n",
    "test_dir = 'classification_data/test'\n",
    "# Image size\n",
    "img_width, img_height = 521, 521\n",
    "# Tensor dimensions\n",
    "input_shape = (img_width, img_height, 3)\n",
    "# Epoches\n",
    "epochs = 30\n",
    "# Batch size\n",
    "batch_size = 16\n",
    "# Train samples\n",
    "nb_train_samples = 19164\n",
    "# Test samples\n",
    "nb_test_samples = 3000"
   ]
  },
  {
   "cell_type": "markdown",
   "metadata": {},
   "source": [
    "Create the model."
   ]
  },
  {
   "cell_type": "code",
   "execution_count": 60,
   "metadata": {
    "collapsed": true
   },
   "outputs": [],
   "source": [
    "model = Sequential()\n",
    "model.add(Conv2D(16, (3, 3), input_shape=input_shape))\n",
    "model.add(Activation('relu'))\n",
    "model.add(MaxPooling2D(pool_size=(2, 2)))\n",
    "\n",
    "model.add(ZeroPadding2D((1,1)))\n",
    "model.add(Conv2D(8, (3, 3)))\n",
    "model.add(Activation('relu'))\n",
    "model.add(MaxPooling2D(pool_size=(2, 2)))\n",
    "\n",
    "model.add(ZeroPadding2D((1,1)))\n",
    "model.add(Conv2D(8, (3, 3)))\n",
    "model.add(Activation('relu'))\n",
    "model.add(MaxPooling2D(pool_size=(2, 2)))\n",
    "\n",
    "model.add(ZeroPadding2D((1,1)))\n",
    "model.add(Conv2D(8, (3, 3)))\n",
    "model.add(Activation('relu'))\n",
    "model.add(MaxPooling2D(pool_size=(2, 2)))\n",
    "\n",
    "model.add(Flatten())\n",
    "model.add(Dense(64))\n",
    "model.add(Activation('relu'))\n",
    "model.add(Dropout(0.5))\n",
    "\n",
    "model.add(Flatten())\n",
    "model.add(Dense(64))\n",
    "model.add(Activation('relu'))\n",
    "model.add(Dropout(0.5))\n",
    "\n",
    "model.add(Dense(1))\n",
    "model.add(Activation('sigmoid'))\n"
   ]
  },
  {
   "cell_type": "markdown",
   "metadata": {},
   "source": [
    "Compile the model."
   ]
  },
  {
   "cell_type": "code",
   "execution_count": 61,
   "metadata": {
    "collapsed": true
   },
   "outputs": [],
   "source": [
    "model.compile(loss='binary_crossentropy',\n",
    "              optimizer='adam',\n",
    "              metrics=['accuracy'])"
   ]
  },
  {
   "cell_type": "markdown",
   "metadata": {},
   "source": [
    "Create data generator for images."
   ]
  },
  {
   "cell_type": "code",
   "execution_count": 62,
   "metadata": {
    "collapsed": true
   },
   "outputs": [],
   "source": [
    "datagen = ImageDataGenerator(rescale=1. / 255)\n"
   ]
  },
  {
   "cell_type": "markdown",
   "metadata": {},
   "source": [
    "Create a train dataset."
   ]
  },
  {
   "cell_type": "code",
   "execution_count": 63,
   "metadata": {},
   "outputs": [
    {
     "name": "stdout",
     "output_type": "stream",
     "text": [
      "Found 19164 images belonging to 2 classes.\n"
     ]
    }
   ],
   "source": [
    "\n",
    "train_generator = datagen.flow_from_directory(\n",
    "    train_dir,\n",
    "    target_size=(img_width, img_height),\n",
    "    batch_size=batch_size,\n",
    "    class_mode='binary')"
   ]
  },
  {
   "cell_type": "markdown",
   "metadata": {},
   "source": [
    "Create a test dataset."
   ]
  },
  {
   "cell_type": "code",
   "execution_count": 64,
   "metadata": {},
   "outputs": [
    {
     "name": "stdout",
     "output_type": "stream",
     "text": [
      "Found 3000 images belonging to 2 classes.\n"
     ]
    }
   ],
   "source": [
    "test_generator = datagen.flow_from_directory(\n",
    "    test_dir,\n",
    "    target_size=(img_width, img_height),\n",
    "    batch_size=batch_size,\n",
    "    class_mode='binary')"
   ]
  },
  {
   "cell_type": "markdown",
   "metadata": {},
   "source": [
    "Create a validation dataset."
   ]
  },
  {
   "cell_type": "markdown",
   "metadata": {},
   "source": [
    "Fit the model."
   ]
  },
  {
   "cell_type": "code",
   "execution_count": 65,
   "metadata": {},
   "outputs": [
    {
     "name": "stdout",
     "output_type": "stream",
     "text": [
      "Epoch 1/30\n",
      "1197/1197 [==============================] - 153s - loss: 0.6398 - acc: 0.6327 - val_loss: 0.6516 - val_acc: 0.6039\n",
      "Epoch 2/30\n",
      "1197/1197 [==============================] - 152s - loss: 0.5885 - acc: 0.6937 - val_loss: 0.6193 - val_acc: 0.6632\n",
      "Epoch 3/30\n",
      "1197/1197 [==============================] - 120s - loss: 0.5529 - acc: 0.7199 - val_loss: 0.5894 - val_acc: 0.6914\n",
      "Epoch 4/30\n",
      "1197/1197 [==============================] - 118s - loss: 0.5081 - acc: 0.7522 - val_loss: 0.5427 - val_acc: 0.7141\n",
      "Epoch 5/30\n",
      "1197/1197 [==============================] - 118s - loss: 0.4594 - acc: 0.7788 - val_loss: 0.5139 - val_acc: 0.7386\n",
      "Epoch 6/30\n",
      "1197/1197 [==============================] - 118s - loss: 0.4109 - acc: 0.8053 - val_loss: 0.4633 - val_acc: 0.7735\n",
      "Epoch 7/30\n",
      "1197/1197 [==============================] - 118s - loss: 0.3691 - acc: 0.8284 - val_loss: 0.4138 - val_acc: 0.8097\n",
      "Epoch 8/30\n",
      "1197/1197 [==============================] - 118s - loss: 0.3372 - acc: 0.8454 - val_loss: 0.3934 - val_acc: 0.8200\n",
      "Epoch 9/30\n",
      "1197/1197 [==============================] - 118s - loss: 0.3136 - acc: 0.8581 - val_loss: 0.3432 - val_acc: 0.8536\n",
      "Epoch 10/30\n",
      "1197/1197 [==============================] - 118s - loss: 0.2891 - acc: 0.8669 - val_loss: 0.3505 - val_acc: 0.8680\n",
      "Epoch 11/30\n",
      "1197/1197 [==============================] - 118s - loss: 0.2686 - acc: 0.8762 - val_loss: 0.3179 - val_acc: 0.8737\n",
      "Epoch 12/30\n",
      "1197/1197 [==============================] - 118s - loss: 0.2555 - acc: 0.8846 - val_loss: 0.2987 - val_acc: 0.8928\n",
      "Epoch 13/30\n",
      "1197/1197 [==============================] - 118s - loss: 0.2417 - acc: 0.8907 - val_loss: 0.3428 - val_acc: 0.8770\n",
      "Epoch 14/30\n",
      "1197/1197 [==============================] - 118s - loss: 0.2371 - acc: 0.8898 - val_loss: 0.2989 - val_acc: 0.9018\n",
      "Epoch 15/30\n",
      "1197/1197 [==============================] - 118s - loss: 0.2283 - acc: 0.8960 - val_loss: 0.3547 - val_acc: 0.8807\n",
      "Epoch 16/30\n",
      "1197/1197 [==============================] - 118s - loss: 0.2250 - acc: 0.8971 - val_loss: 0.3246 - val_acc: 0.9001\n",
      "Epoch 17/30\n",
      "1197/1197 [==============================] - 118s - loss: 0.2145 - acc: 0.9058 - val_loss: 0.2668 - val_acc: 0.9085\n",
      "Epoch 18/30\n",
      "1197/1197 [==============================] - 118s - loss: 0.2073 - acc: 0.9050 - val_loss: 0.2695 - val_acc: 0.9078\n",
      "Epoch 19/30\n",
      "1197/1197 [==============================] - 118s - loss: 0.2077 - acc: 0.9037 - val_loss: 0.2816 - val_acc: 0.9058\n",
      "Epoch 20/30\n",
      "1197/1197 [==============================] - 118s - loss: 0.1982 - acc: 0.9103 - val_loss: 0.2473 - val_acc: 0.9179\n",
      "Epoch 21/30\n",
      "1197/1197 [==============================] - 118s - loss: 0.1949 - acc: 0.9119 - val_loss: 0.3434 - val_acc: 0.9052\n",
      "Epoch 22/30\n",
      "1197/1197 [==============================] - 118s - loss: 0.1929 - acc: 0.9127 - val_loss: 0.2828 - val_acc: 0.8985\n",
      "Epoch 23/30\n",
      "1197/1197 [==============================] - 118s - loss: 0.1912 - acc: 0.9141 - val_loss: 0.3181 - val_acc: 0.8975\n",
      "Epoch 24/30\n",
      "1197/1197 [==============================] - 118s - loss: 0.1897 - acc: 0.9161 - val_loss: 0.2967 - val_acc: 0.9045\n",
      "Epoch 25/30\n",
      "1197/1197 [==============================] - 118s - loss: 0.1848 - acc: 0.9177 - val_loss: 0.2655 - val_acc: 0.9145\n",
      "Epoch 26/30\n",
      "1197/1197 [==============================] - 118s - loss: 0.1799 - acc: 0.9203 - val_loss: 0.3301 - val_acc: 0.9055\n",
      "Epoch 27/30\n",
      "1197/1197 [==============================] - 118s - loss: 0.1848 - acc: 0.9176 - val_loss: 0.2622 - val_acc: 0.9135\n",
      "Epoch 28/30\n",
      "1197/1197 [==============================] - 118s - loss: 0.1711 - acc: 0.9248 - val_loss: 0.2994 - val_acc: 0.9038\n",
      "Epoch 29/30\n",
      "1197/1197 [==============================] - 118s - loss: 0.1793 - acc: 0.9199 - val_loss: 0.2891 - val_acc: 0.9109\n",
      "Epoch 30/30\n",
      "1197/1197 [==============================] - 118s - loss: 0.1745 - acc: 0.9237 - val_loss: 0.3370 - val_acc: 0.9109\n"
     ]
    }
   ],
   "source": [
    "history = model.fit_generator(\n",
    "    train_generator,\n",
    "    steps_per_epoch=nb_train_samples // batch_size,\n",
    "    epochs=epochs,\n",
    "    validation_data=test_generator,\n",
    "    validation_steps=nb_test_samples // batch_size)"
   ]
  },
  {
   "cell_type": "code",
   "execution_count": 58,
   "metadata": {},
   "outputs": [
    {
     "name": "stdout",
     "output_type": "stream",
     "text": [
      "Test data accuracy: 95.55%\n"
     ]
    }
   ],
   "source": [
    "scores = model.evaluate_generator(test_generator, nb_test_samples // batch_size)\n",
    "\n",
    "print(\"Test data accuracy: %.2f%%\" % (scores[1]*100))"
   ]
  },
  {
   "cell_type": "markdown",
   "metadata": {},
   "source": [
    "Plot the history of model fitting."
   ]
  },
  {
   "cell_type": "code",
   "execution_count": 66,
   "metadata": {
    "collapsed": true
   },
   "outputs": [],
   "source": [
    "def plot_history(history):\n",
    "    f, (ax1, ax2) = plt.subplots(1, 2, sharey=True, figsize=(20,7))\n",
    "    ax1.plot(history.history['acc'])\n",
    "    ax1.plot(history.history['val_acc'])\n",
    "    ax1.set_title('model accuracy')\n",
    "    ax1.set_ylabel('accuracy')\n",
    "    ax1.set_xlabel('epoch')\n",
    "    ax1.legend(['train', 'test'], loc='upper left')\n",
    "    \n",
    "    \n",
    "    ax2.plot(history.history['loss'])\n",
    "    ax2.plot(history.history['val_loss'])\n",
    "    ax2.set_title('model loss')\n",
    "    ax2.set_ylabel('loss')\n",
    "    ax2.set_xlabel('epoch')\n",
    "    ax2.legend(['train', 'test'], loc='upper left')"
   ]
  },
  {
   "cell_type": "code",
   "execution_count": 67,
   "metadata": {},
   "outputs": [
    {
     "data": {
      "image/png": "[encoded data removed]",
      "text/plain": [
       "<matplotlib.figure.Figure at 0x7f632ffd2390>"
      ]
     },
     "metadata": {},
     "output_type": "display_data"
    }
   ],
   "source": [
    "plot_history(history)"
   ]
  },
  {
   "cell_type": "code",
   "execution_count": null,
   "metadata": {
    "collapsed": true
   },
   "outputs": [],
   "source": []
  }
 ],
 "metadata": {
  "kernelspec": {
   "display_name": "Python 3",
   "language": "python",
   "name": "python3"
  },
  "language_info": {
   "codemirror_mode": {
    "name": "ipython",
    "version": 2
   },
   "file_extension": ".py",
   "mimetype": "text/x-python",
   "name": "python",
   "nbconvert_exporter": "python",
   "pygments_lexer": "ipython2",
   "version": "2.7.11"
  }
 },
 "nbformat": 4,
 "nbformat_minor": 2
}
